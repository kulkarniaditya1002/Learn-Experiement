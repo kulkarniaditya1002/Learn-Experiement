{
 "cells": [
  {
   "cell_type": "code",
   "execution_count": 27,
   "id": "e6b72509",
   "metadata": {},
   "outputs": [
    {
     "data": {
      "text/plain": [
       "2"
      ]
     },
     "execution_count": 27,
     "metadata": {},
     "output_type": "execute_result"
    }
   ],
   "source": [
    "#Fibonacci basic recursion.\n",
    "class Solution:\n",
    "    def fibo(self,n):\n",
    "        if n==0 or n==1:\n",
    "            return n\n",
    "        else:\n",
    "            return fibo(n-1) + fibo(n-2)\n",
    "\n",
    "f = Solution()\n",
    "f.fibo(3)"
   ]
  },
  {
   "cell_type": "code",
   "execution_count": 71,
   "id": "4a34c975",
   "metadata": {},
   "outputs": [
    {
     "data": {
      "text/plain": [
       "5"
      ]
     },
     "execution_count": 71,
     "metadata": {},
     "output_type": "execute_result"
    }
   ],
   "source": [
    "#############################################\n",
    "### DP ON STRINGS | SERIES ###\n",
    "#############################################\n",
    "'''\n",
    "#import sys, threading\n",
    "#sys.setrecursionlimit(10**7) # max depth of recursion\n",
    "#threading.stack_size(2**27)  # new thread will get stack of such size\n",
    "\n",
    "\n",
    "Longest common subsequence --->>>> This is a bottom up approach of DP, tabulation tried with top down approach with\n",
    "recursion and memoization but got error : Max recusrion depth exceded, recusion does not have good support\n",
    "for every case in python\n",
    "'''\n",
    "\n",
    "def lcs(a,b):\n",
    "    m = len(a)\n",
    "    n = len(b)\n",
    " \n",
    "    L = [[None]*(n + 1) for i in range(m + 1)]\n",
    "\n",
    "    for i in range(m + 1):\n",
    "        for j in range(n + 1):\n",
    "            if i == 0 or j == 0 :\n",
    "                L[i][j] = 0\n",
    "            elif a[i-1] == b[j-1]:\n",
    "                L[i][j] = L[i-1][j-1]+1\n",
    "            else:\n",
    "                L[i][j] = max(L[i-1][j], L[i][j-1])\n",
    "    return L[m][n]\n",
    "\n",
    "a = \"abcef\"\n",
    "\n",
    "b = \"abcef\"\n",
    "\n",
    "lcs(a,b)"
   ]
  },
  {
   "cell_type": "code",
   "execution_count": 131,
   "id": "ab89e3c4",
   "metadata": {},
   "outputs": [
    {
     "data": {
      "text/plain": [
       "4"
      ]
     },
     "execution_count": 131,
     "metadata": {},
     "output_type": "execute_result"
    }
   ],
   "source": [
    "### Longest common palindromic subsequence ###\n",
    "def lcs(a):\n",
    "    arev = a[::-1]\n",
    "    m = len(a)\n",
    "    n = len(arev)\n",
    "    L = [[None]*(n + 1) for i in range(m + 1)]\n",
    "    #print(type(L))\n",
    "    for i in range(m + 1):\n",
    "        for j in range(n + 1):\n",
    "            if i == 0 or j == 0 :\n",
    "                L[i][j] = 0\n",
    "            elif a[i-1] == arev[j-1]:\n",
    "                L[i][j] = L[i-1][j-1]+1\n",
    "            else:\n",
    "                L[i][j] = max(L[i-1][j], L[i][j-1])\n",
    "    return L[m][n]\n",
    "\n",
    "a = \"bccb\"\n",
    "lcs(a)"
   ]
  },
  {
   "cell_type": "code",
   "execution_count": null,
   "id": "d09e6479",
   "metadata": {},
   "outputs": [],
   "source": [
    "### Different palindromic subsequence - Hard problem Leetcode ###\n",
    "class Solution:        \n",
    "    def countPalindromicSubsequences(self, s: str) -> int:                                   \n",
    "        mod = 10**9 + 7\n",
    "        def dp(i, j):\n",
    "            if i > j: return 0            \n",
    "            if i == j: return 1\n",
    "\n",
    "            result = 0\n",
    "\n",
    "            for c in set(s[i:j + 1]):\n",
    "                L, R = s.find(c, i, j  + 1), s.rfind(c, i, j + 1)\n",
    "                if L == R: \n",
    "                    result += 1                    \n",
    "                else: \n",
    "                    result += dp(L + 1, R - 1) + 2\n",
    "\n",
    "            return result % mod        \n",
    "        \n",
    "        return dp(0, len(s) - 1) % mod"
   ]
  },
  {
   "cell_type": "code",
   "execution_count": null,
   "id": "a45c01b1",
   "metadata": {},
   "outputs": [],
   "source": [
    "### Predict winner of circular game ###\n",
    "n =  ((n-1,n) + k)%2\n",
    "\n",
    "n = 1 + func()\n",
    "\n",
    "retrun n "
   ]
  },
  {
   "cell_type": "code",
   "execution_count": null,
   "id": "2efc4fa2",
   "metadata": {},
   "outputs": [],
   "source": [
    "## Distance "
   ]
  },
  {
   "cell_type": "code",
   "execution_count": null,
   "id": "3a03ac0a",
   "metadata": {},
   "outputs": [],
   "source": [
    "## Climbing stairs"
   ]
  }
 ],
 "metadata": {
  "kernelspec": {
   "display_name": "Python 3 (ipykernel)",
   "language": "python",
   "name": "python3"
  },
  "language_info": {
   "codemirror_mode": {
    "name": "ipython",
    "version": 3
   },
   "file_extension": ".py",
   "mimetype": "text/x-python",
   "name": "python",
   "nbconvert_exporter": "python",
   "pygments_lexer": "ipython3",
   "version": "3.9.12"
  }
 },
 "nbformat": 4,
 "nbformat_minor": 5
}
