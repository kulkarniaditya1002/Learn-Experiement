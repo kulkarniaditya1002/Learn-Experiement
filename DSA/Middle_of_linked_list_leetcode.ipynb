{
 "cells": [
  {
   "cell_type": "code",
   "execution_count": 111,
   "id": "827ff352",
   "metadata": {},
   "outputs": [
    {
     "data": {
      "text/plain": [
       "(4, 5, 6)"
      ]
     },
     "execution_count": 111,
     "metadata": {},
     "output_type": "execute_result"
    }
   ],
   "source": [
    "# Middle of the Linked List\n",
    "\n",
    "'''\n",
    "Given the head of a singly linked list, return the middle node of the linked list.\n",
    "\n",
    "If there are two middle nodes, return the second middle node.\n",
    "\n",
    " \n",
    "\n",
    "Example 1:\n",
    "\n",
    "\n",
    "Input: head = [1,2,3,4,5]\n",
    "Output: [3,4,5]\n",
    "Explanation: The middle node of the list is node 3.\n",
    "Example 2:\n",
    "\n",
    "\n",
    "Input: head = [1,2,3,4,5,6]\n",
    "Output: [4,5,6]\n",
    "Explanation: Since the list has two middle nodes with values 3 and 4, we return the second one.\n",
    "\n",
    "'''\n",
    "class Node:\n",
    "    def __init__(self,val=0,next=None):\n",
    "        self.next = next\n",
    "        self.val = val\n",
    "\n",
    "def middleelement(root):\n",
    "    s = f = root\n",
    "    while f and f.next:\n",
    "        s = s.next\n",
    "        f = f.next.next\n",
    "    return s.val,s.next.val,s.next.next.val\n",
    "\n",
    "# Create object\n",
    "head = Node(1)\n",
    "head.next = Node(2)\n",
    "head.next.next = Node(3)\n",
    "head.next.next.next = Node(4)\n",
    "head.next.next.next.next = Node(5)\n",
    "head.next.next.next.next.next = Node(6)\n",
    "\n",
    "#Call the function by passing the tree values.\n",
    "middleelement(head)\n",
    "\n",
    "\n"
   ]
  }
 ],
 "metadata": {
  "kernelspec": {
   "display_name": "Python 3 (ipykernel)",
   "language": "python",
   "name": "python3"
  },
  "language_info": {
   "codemirror_mode": {
    "name": "ipython",
    "version": 3
   },
   "file_extension": ".py",
   "mimetype": "text/x-python",
   "name": "python",
   "nbconvert_exporter": "python",
   "pygments_lexer": "ipython3",
   "version": "3.9.12"
  }
 },
 "nbformat": 4,
 "nbformat_minor": 5
}
