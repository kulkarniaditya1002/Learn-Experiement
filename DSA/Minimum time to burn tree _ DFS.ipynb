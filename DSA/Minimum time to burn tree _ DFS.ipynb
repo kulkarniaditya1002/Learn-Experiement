{
 "cells": [
  {
   "cell_type": "code",
   "execution_count": 11,
   "id": "100fe237",
   "metadata": {},
   "outputs": [
    {
     "name": "stdout",
     "output_type": "stream",
     "text": [
      "4\n"
     ]
    }
   ],
   "source": [
    "#DFS\n",
    "# A binary tree node\n",
    "\n",
    "class Node:\n",
    "\t# Constructor to create a new binary node\n",
    "\tdef __init__(self, key):\n",
    "\t\tself.key = key\n",
    "\t\tself.left = None\n",
    "\t\tself.right = None\n",
    "\n",
    "\n",
    "res = 0\n",
    "\n",
    "# Function to find out the time to burn the tree\n",
    "\n",
    "def burnTime(root, leaf, dist):\n",
    "\tif (root is None):\n",
    "\t\treturn 0\n",
    "\tif (root.key == leaf):\n",
    "\t\tdist[0] = 0\n",
    "\t\treturn 1\n",
    "\tldist, rdist = [-1], [-1]\n",
    "\tlh = burnTime(root.left, leaf, ldist)\n",
    "\trh = burnTime(root.right, leaf, rdist)\n",
    "\tglobal res\n",
    "\tif (ldist[0] != -1):\n",
    "\t\tdist[0] = ldist[0] + 1\n",
    "\t\tres = max(res, dist[0] + rh)\n",
    "\t\t# print(res)\n",
    "\telif (rdist[0] != -1):\n",
    "\t\tdist[0] = rdist[0] + 1\n",
    "\t\tres = max(res, dist[0] + lh)\n",
    "\t\t# print(res)\n",
    "\treturn max(lh, rh)+1\n",
    "\n",
    "\n",
    "if __name__ == '__main__':\n",
    "\troot = Node(1)\n",
    "\troot.left = Node(2)\n",
    "\troot.right = Node(3)\n",
    "\troot.left.left = Node(4)\n",
    "\troot.left.right = Node(5)\n",
    "\troot.right.left = Node(6)\n",
    "\troot.left.left.left = Node(8)\n",
    "\troot.left.right.left = Node(9)\n",
    "\troot.left.right.right = Node(10)\n",
    "\troot.left.right.left.left = Node(11)\n",
    "\tdist = [-1]\n",
    "\ttarget = 5\n",
    "\tburnTime(root, target, dist)\n",
    "\tprint(res)\n"
   ]
  },
  {
   "cell_type": "code",
   "execution_count": null,
   "id": "e9daa3f7",
   "metadata": {},
   "outputs": [],
   "source": []
  }
 ],
 "metadata": {
  "kernelspec": {
   "display_name": "Python 3 (ipykernel)",
   "language": "python",
   "name": "python3"
  },
  "language_info": {
   "codemirror_mode": {
    "name": "ipython",
    "version": 3
   },
   "file_extension": ".py",
   "mimetype": "text/x-python",
   "name": "python",
   "nbconvert_exporter": "python",
   "pygments_lexer": "ipython3",
   "version": "3.9.12"
  }
 },
 "nbformat": 4,
 "nbformat_minor": 5
}
