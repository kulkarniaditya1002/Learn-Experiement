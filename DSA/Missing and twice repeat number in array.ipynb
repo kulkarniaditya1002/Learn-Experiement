{
 "cells": [
  {
   "cell_type": "code",
   "execution_count": 13,
   "id": "6ffe88f2",
   "metadata": {},
   "outputs": [
    {
     "name": "stdout",
     "output_type": "stream",
     "text": [
      "missing 2\n",
      "repeat 1\n",
      "missing 0\n"
     ]
    },
    {
     "data": {
      "text/plain": [
       "[2, 1]"
      ]
     },
     "execution_count": 13,
     "metadata": {},
     "output_type": "execute_result"
    }
   ],
   "source": [
    "#Given an unsorted array arr of size N of positive integers.\n",
    "#One number ‘A’ from set {1, 2, …N} is missing and one number ‘B’ occurs twice in the array. \n",
    "#Find these two numbers.\n",
    "\n",
    "a = [4,1,3,1,6,5]\n",
    "\n",
    "#1st case : if the array contains 1,1\n",
    "#2nd case : if array contains 1\n",
    "#3rd case : are there negative values as well\n",
    "#4th case : restrictions on the int repetition : 1,1,1,3,7\n",
    "\n",
    "'''\n",
    "Approach :\n",
    "           1. sort the array [1,3,3,4,5]\n",
    "           2. check for duplicates and store in array.\n",
    "           3. check for the missing int.\n",
    "                                           1. Get the total sum of the array elemenst and search the in the array if \n",
    "                                              the substracted int exists if not then that is the missing int.\n",
    "                                              5 - 4 = 1\n",
    "                                              5 -3 = 2 if check this int exists in array : not then its the missing one.\n",
    "                                              5 - 1 = 4\n",
    "                                              \n",
    "'''\n",
    "\n",
    "def missandrepeat(a):\n",
    "    ls = []\n",
    "    if len(a) == 1:\n",
    "        return 0\n",
    "    for i in range(len(a)):\n",
    "        if a[i-2] == a[i]:\n",
    "            ls.append(a[i])\n",
    "            print(\"repeat\",a[i])\n",
    "        sub = max(a) - a[i]\n",
    "        if sub not in a:\n",
    "            ls.append(sub)\n",
    "            print(\"missing\",sub)\n",
    "    return ls[0:len(ls)-1]\n",
    "\n",
    "missandrepeat(a)"
   ]
  },
  {
   "cell_type": "code",
   "execution_count": null,
   "id": "13b8cd6e",
   "metadata": {},
   "outputs": [],
   "source": []
  }
 ],
 "metadata": {
  "kernelspec": {
   "display_name": "Python 3 (ipykernel)",
   "language": "python",
   "name": "python3"
  },
  "language_info": {
   "codemirror_mode": {
    "name": "ipython",
    "version": 3
   },
   "file_extension": ".py",
   "mimetype": "text/x-python",
   "name": "python",
   "nbconvert_exporter": "python",
   "pygments_lexer": "ipython3",
   "version": "3.9.12"
  }
 },
 "nbformat": 4,
 "nbformat_minor": 5
}
