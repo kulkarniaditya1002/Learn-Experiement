{
 "cells": [
  {
   "cell_type": "code",
   "execution_count": 1,
   "id": "7c879247",
   "metadata": {},
   "outputs": [
    {
     "name": "stdout",
     "output_type": "stream",
     "text": [
      "[-2 -1  3]\n",
      "0\n",
      "-3\n",
      "Med -1.0\n"
     ]
    }
   ],
   "source": [
    "#### Median of 2 sorted/unsorted arrays.\n",
    "import numpy as np\n",
    "class Solution:\n",
    "    def findMedianSortedArrays(self, nums1: List[int], nums2: List[int]) -> float:\n",
    "        new = np.append(nums1,nums2)\n",
    "        #print(len(new))\n",
    "        min = new[0]\n",
    "        sum = 0\n",
    "        for i in range(len(new)):\n",
    "            for j in range(i+1,len(new)):\n",
    "                if new[i] > new[j]:\n",
    "                    new[i],new[j]=new[j],new[i]\n",
    "        \n",
    "        for s in new[0:len(new)]:\n",
    "            sum = sum + abs(s)\n",
    "        print(sum)\n",
    "        if len(new)%2 == 0:\n",
    "            ev = len(new)//2\n",
    "            new1 = new[:ev]\n",
    "            new2 = new[ev:]\n",
    "            sum1 = new1[-1] + new2[0]\n",
    "            Med = sum1/2\n",
    "            return Med\n",
    "        Med = sum/len(new)\n",
    "        return Med"
   ]
  }
 ],
 "metadata": {
  "kernelspec": {
   "display_name": "Python 3 (ipykernel)",
   "language": "python",
   "name": "python3"
  },
  "language_info": {
   "codemirror_mode": {
    "name": "ipython",
    "version": 3
   },
   "file_extension": ".py",
   "mimetype": "text/x-python",
   "name": "python",
   "nbconvert_exporter": "python",
   "pygments_lexer": "ipython3",
   "version": "3.9.12"
  }
 },
 "nbformat": 4,
 "nbformat_minor": 5
}
