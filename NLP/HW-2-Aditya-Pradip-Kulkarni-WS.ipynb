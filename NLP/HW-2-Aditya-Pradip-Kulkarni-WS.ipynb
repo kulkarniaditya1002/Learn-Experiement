{
 "cells": [
  {
   "cell_type": "code",
   "execution_count": 6,
   "id": "c846de2e",
   "metadata": {},
   "outputs": [
    {
     "name": "stdout",
     "output_type": "stream",
     "text": [
      "/Users/adityakulkarni\n"
     ]
    },
    {
     "data": {
      "text/plain": [
       "array([0., 1., 0., 0., 0., 1., 0., 1., 0., 1., 0., 0., 0., 0., 0., 0., 0.])"
      ]
     },
     "execution_count": 6,
     "metadata": {},
     "output_type": "execute_result"
    }
   ],
   "source": [
    "import os\n",
    "cwd = os.getcwd()\n",
    "print(cwd)\n",
    "import numpy as np\n",
    "\n",
    "#Declare a empty dictionary.\n",
    "words_to_index = {}\n",
    "\n",
    "#List of words.\n",
    "word_list = ['Hello','know','yes','sure','how','you','fine','I','are','good','morning','evening','day','going','is','doing',', ']\n",
    "\n",
    "\n",
    "#Create a dictionary with keys as indexes for the words in list.\n",
    "for i in range(0,len(word_list)):\n",
    "    words_to_index[i] = word_list[i]\n",
    "\n",
    "dict_size = len(words_to_index)\n",
    "\n",
    "#Function to create bag_words\n",
    "def my_bag_of_words(text, words_to_index, dict_size):\n",
    "    \"\"\"\n",
    "    text: a string\n",
    "    dict_size: size of the dictionary\n",
    "\n",
    "    return a vector which is a bag-of-words representation of 'text'\n",
    "    \"\"\"\n",
    "    result_vector = np.zeros(dict_size)\n",
    "    word_list = text.split()\n",
    "    for w in word_list:\n",
    "        for k,v in words_to_index.items():\n",
    "            if w == v:\n",
    "                result_vector[k] = 1\n",
    "    return result_vector\n",
    "\n",
    "#The sentence on which the code is to be tested.\n",
    "text = 'Yes I know you good'\n",
    "\n",
    "#Pass args to the function my_bag_of_words\n",
    "my_bag_of_words(text,words_to_index,dict_size)\n",
    "\n",
    "\n",
    "    "
   ]
  },
  {
   "cell_type": "code",
   "execution_count": null,
   "id": "3dc5d992",
   "metadata": {},
   "outputs": [],
   "source": []
  }
 ],
 "metadata": {
  "kernelspec": {
   "display_name": "Python 3 (ipykernel)",
   "language": "python",
   "name": "python3"
  },
  "language_info": {
   "codemirror_mode": {
    "name": "ipython",
    "version": 3
   },
   "file_extension": ".py",
   "mimetype": "text/x-python",
   "name": "python",
   "nbconvert_exporter": "python",
   "pygments_lexer": "ipython3",
   "version": "3.9.12"
  }
 },
 "nbformat": 4,
 "nbformat_minor": 5
}
