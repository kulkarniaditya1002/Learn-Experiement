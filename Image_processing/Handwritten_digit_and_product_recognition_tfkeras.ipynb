{
 "cells": [
  {
   "cell_type": "code",
   "execution_count": 1,
   "metadata": {
    "colab": {
     "base_uri": "https://localhost:8080/",
     "height": 625
    },
    "id": "_ljvl-756XZL",
    "outputId": "19fc7fea-dd8d-4f4b-e3aa-4b268a8321af"
   },
   "outputs": [
    {
     "data": {
      "image/png": "[encoded data removed]",
      "text/plain": [
       "<Figure size 432x288 with 4 Axes>"
      ]
     },
     "metadata": {
      "needs_background": "light"
     },
     "output_type": "display_data"
    },
    {
     "name": "stdout",
     "output_type": "stream",
     "text": [
      "Epoch 1/10\n",
      "300/300 - 10s - loss: 0.5096 - accuracy: 0.8229 - val_loss: 0.4212 - val_accuracy: 0.8535 - 10s/epoch - 33ms/step\n",
      "Epoch 2/10\n",
      "300/300 - 5s - loss: 0.3757 - accuracy: 0.8655 - val_loss: 0.4126 - val_accuracy: 0.8480 - 5s/epoch - 15ms/step\n",
      "Epoch 3/10\n",
      "300/300 - 5s - loss: 0.3301 - accuracy: 0.8811 - val_loss: 0.3719 - val_accuracy: 0.8637 - 5s/epoch - 15ms/step\n",
      "Epoch 4/10\n",
      "300/300 - 4s - loss: 0.3035 - accuracy: 0.8898 - val_loss: 0.3467 - val_accuracy: 0.8761 - 4s/epoch - 15ms/step\n",
      "Epoch 5/10\n",
      "300/300 - 5s - loss: 0.2852 - accuracy: 0.8962 - val_loss: 0.3344 - val_accuracy: 0.8774 - 5s/epoch - 15ms/step\n",
      "Epoch 6/10\n",
      "300/300 - 5s - loss: 0.2717 - accuracy: 0.9005 - val_loss: 0.3281 - val_accuracy: 0.8841 - 5s/epoch - 15ms/step\n",
      "Epoch 7/10\n",
      "300/300 - 5s - loss: 0.2550 - accuracy: 0.9062 - val_loss: 0.3184 - val_accuracy: 0.8855 - 5s/epoch - 15ms/step\n",
      "Epoch 8/10\n",
      "300/300 - 5s - loss: 0.2419 - accuracy: 0.9111 - val_loss: 0.3155 - val_accuracy: 0.8889 - 5s/epoch - 15ms/step\n",
      "Epoch 9/10\n",
      "300/300 - 5s - loss: 0.2342 - accuracy: 0.9136 - val_loss: 0.3197 - val_accuracy: 0.8858 - 5s/epoch - 15ms/step\n",
      "Epoch 10/10\n",
      "300/300 - 5s - loss: 0.2198 - accuracy: 0.9182 - val_loss: 0.3154 - val_accuracy: 0.8890 - 5s/epoch - 15ms/step\n",
      "Baseline Error: 11.10%\n"
     ]
    }
   ],
   "source": [
    "\"\"\"\n",
    "\n",
    "HW-03 - Aditya-Pradip-Kulkarni\n",
    "\n",
    "Date : 10/07/2022\n",
    "\n",
    "\"\"\"\n",
    "# Plot ad hoc mnist instances\n",
    "from keras.datasets import mnist\n",
    "import matplotlib.pyplot as plt\n",
    "# load (downloaded if needed) the MNIST dataset\n",
    "(X_train, y_train), (X_test, y_test) = fashion_mnist.load_data()\n",
    "# plot 4 images as gray scale\n",
    "plt.subplot(221)\n",
    "plt.imshow(X_train[0], cmap=plt.get_cmap('gray'))\n",
    "plt.subplot(222)\n",
    "plt.imshow(X_train[1], cmap=plt.get_cmap('gray'))\n",
    "plt.subplot(223)\n",
    "plt.imshow(X_train[2], cmap=plt.get_cmap('gray'))\n",
    "plt.subplot(224)\n",
    "plt.imshow(X_train[3], cmap=plt.get_cmap('gray'))\n",
    "# show the plot\n",
    "plt.show()\n",
    "\n",
    "from keras.datasets import mnist\n",
    "from keras.models import Sequential\n",
    "from keras.layers import Dense\n",
    "from keras.layers import Dropout\n",
    "from keras.utils import np_utils\n",
    "#from tensorflow.keras.datasets import fashion_mnist\n",
    "import numpy as np\n",
    "\n",
    "# fix random seed for reproducibility\n",
    "seed = 7\n",
    "np.random.seed(seed)\n",
    "\n",
    "# load data\n",
    "(X_train, y_train), (X_test, y_test) = fashion_mnist.load_data()\n",
    "\n",
    "\n",
    "# flatten 28*28 images to a 784 vector for each image\n",
    "num_pixels = X_train.shape[1] * X_train.shape[2]\n",
    "X_train = X_train.reshape(X_train.shape[0], num_pixels).astype('float32')\n",
    "X_test = X_test.reshape(X_test.shape[0], num_pixels).astype('float32')\n",
    "\n",
    "# normalize inputs from 0-255 to 0-1\n",
    "X_train = X_train / 255\n",
    "X_test = X_test / 255\n",
    "\n",
    "# one hot encode outputs\n",
    "y_train = np_utils.to_categorical(y_train)\n",
    "y_test = np_utils.to_categorical(y_test)\n",
    "num_classes = y_test.shape[1]\n",
    "\n",
    "\n",
    "# define baseline model\n",
    "def baseline_model():\n",
    "    # create model\n",
    "    model = Sequential()\n",
    "    model.add(Dense(num_pixels, input_dim=num_pixels, kernel_initializer='normal', activation='relu'))\n",
    "    model.add(Dense(num_classes, kernel_initializer='normal', activation='softmax'))\n",
    "    # Compile model\n",
    "    model.compile(loss='categorical_crossentropy', optimizer='adam', metrics=['accuracy'])\n",
    "    return model\n",
    "\n",
    "\n",
    "# build the model\n",
    "model = baseline_model()\n",
    "# Fit the model\n",
    "model.fit(X_train, y_train, validation_data=(X_test, y_test), epochs=10, batch_size=200, verbose=2)\n",
    "# Final evaluation of the model\n",
    "scores = model.evaluate(X_test, y_test, verbose=0)\n",
    "print(\"Baseline Error: %.2f%%\" % (100-scores[1]*100))\n"
   ]
  }
 ],
 "metadata": {
  "colab": {
   "provenance": []
  },
  "kernelspec": {
   "display_name": "Python 3 (ipykernel)",
   "language": "python",
   "name": "python3"
  },
  "language_info": {
   "codemirror_mode": {
    "name": "ipython",
    "version": 3
   },
   "file_extension": ".py",
   "mimetype": "text/x-python",
   "name": "python",
   "nbconvert_exporter": "python",
   "pygments_lexer": "ipython3",
   "version": "3.9.12"
  }
 },
 "nbformat": 4,
 "nbformat_minor": 1
}
